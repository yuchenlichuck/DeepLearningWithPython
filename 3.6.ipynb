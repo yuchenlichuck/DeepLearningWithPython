{
 "cells": [
  {
   "cell_type": "code",
   "execution_count": 1,
   "metadata": {},
   "outputs": [
    {
     "name": "stderr",
     "output_type": "stream",
     "text": [
      "D:\\Anaconda3\\lib\\site-packages\\h5py\\__init__.py:36: FutureWarning: Conversion of the second argument of issubdtype from `float` to `np.floating` is deprecated. In future, it will be treated as `np.float64 == np.dtype(float).type`.\n",
      "  from ._conv import register_converters as _register_converters\n",
      "Using TensorFlow backend.\n"
     ]
    }
   ],
   "source": [
    "import keras"
   ]
  },
  {
   "cell_type": "code",
   "execution_count": 3,
   "metadata": {},
   "outputs": [],
   "source": [
    "from keras.datasets import reuters"
   ]
  },
  {
   "cell_type": "code",
   "execution_count": 4,
   "metadata": {},
   "outputs": [
    {
     "name": "stdout",
     "output_type": "stream",
     "text": [
      "Downloading data from https://s3.amazonaws.com/text-datasets/reuters.npz\n",
      "2113536/2110848 [==============================] - 8s 4us/step\n"
     ]
    }
   ],
   "source": [
    "(train_data,train_labels),(test_data,test_labels)=reuters.load_data(num_words=10000)"
   ]
  },
  {
   "cell_type": "code",
   "execution_count": 5,
   "metadata": {},
   "outputs": [
    {
     "data": {
      "text/plain": [
       "[1,\n",
       " 245,\n",
       " 273,\n",
       " 207,\n",
       " 156,\n",
       " 53,\n",
       " 74,\n",
       " 160,\n",
       " 26,\n",
       " 14,\n",
       " 46,\n",
       " 296,\n",
       " 26,\n",
       " 39,\n",
       " 74,\n",
       " 2979,\n",
       " 3554,\n",
       " 14,\n",
       " 46,\n",
       " 4689,\n",
       " 4329,\n",
       " 86,\n",
       " 61,\n",
       " 3499,\n",
       " 4795,\n",
       " 14,\n",
       " 61,\n",
       " 451,\n",
       " 4329,\n",
       " 17,\n",
       " 12]"
      ]
     },
     "execution_count": 5,
     "metadata": {},
     "output_type": "execute_result"
    }
   ],
   "source": [
    "train_data[10]"
   ]
  },
  {
   "cell_type": "code",
   "execution_count": 7,
   "metadata": {},
   "outputs": [
    {
     "name": "stdout",
     "output_type": "stream",
     "text": [
      "Downloading data from https://s3.amazonaws.com/text-datasets/reuters_word_index.json\n",
      "557056/550378 [==============================] - 2s 3us/step\n"
     ]
    }
   ],
   "source": [
    "word_index=reuters.get_word_index()\n",
    "reverse_word_index=dict([(v,k) for (k,v)in word_index.items()])\n",
    "decoded_newswire=' '.join([reverse_word_index.get(i-3,'?')for i in train_data[0]])"
   ]
  },
  {
   "cell_type": "code",
   "execution_count": 8,
   "metadata": {},
   "outputs": [],
   "source": [
    "import numpy as np\n",
    "\n",
    "def vs(s,dim=10000):\n",
    "    results=np.zeros((len(s),dim))\n",
    "    for i,s in enumerate(s):\n",
    "        results[i,s]=1.\n",
    "    return results"
   ]
  },
  {
   "cell_type": "code",
   "execution_count": 9,
   "metadata": {},
   "outputs": [],
   "source": [
    "x_train=vs(train_data)\n",
    "x_test=vs(test_data)"
   ]
  },
  {
   "cell_type": "code",
   "execution_count": 11,
   "metadata": {},
   "outputs": [],
   "source": [
    "def to_one_hot(labels,dim=46):\n",
    "    results=np.zeros((len(labels),dim))\n",
    "    for i, labels in enumerate(labels):\n",
    "        results[i,label]=1.\n",
    "    return results"
   ]
  },
  {
   "cell_type": "code",
   "execution_count": 12,
   "metadata": {},
   "outputs": [],
   "source": [
    "from keras.utils.np_utils import to_categorical\n",
    "\n",
    "one_hot_train_labels=to_categorical(train_labels)\n",
    "one_hot_test_labels=to_categorical(test_labels)\n"
   ]
  },
  {
   "cell_type": "code",
   "execution_count": 13,
   "metadata": {},
   "outputs": [],
   "source": [
    "from keras import models\n",
    "from keras import layers\n"
   ]
  },
  {
   "cell_type": "code",
   "execution_count": 20,
   "metadata": {},
   "outputs": [],
   "source": [
    "model=models.Sequential()\n",
    "model.add(layers.Dense(64,activation='relu',input_shape=(10000,)))\n",
    "model.add(layers.Dense(64,activation='relu'))\n",
    "model.add(layers.Dense(64,activation='relu'))\n",
    "model.add(layers.Dense(46,activation='softmax'))"
   ]
  },
  {
   "cell_type": "code",
   "execution_count": 21,
   "metadata": {},
   "outputs": [],
   "source": [
    "model.compile(optimizer='rmsprop',loss='categorical_crossentropy',metrics=['accuracy'])"
   ]
  },
  {
   "cell_type": "code",
   "execution_count": 22,
   "metadata": {},
   "outputs": [],
   "source": [
    "x_val = x_train[:1000]\n",
    "partial_x_train = x_train[1000:]\n",
    "\n",
    "y_val = one_hot_train_labels[:1000]\n",
    "partial_y_train = one_hot_train_labels[1000:]"
   ]
  },
  {
   "cell_type": "code",
   "execution_count": 23,
   "metadata": {},
   "outputs": [
    {
     "name": "stdout",
     "output_type": "stream",
     "text": [
      "Train on 7982 samples, validate on 1000 samples\n",
      "Epoch 1/20\n",
      "7982/7982 [==============================] - 2s 197us/step - loss: 2.4794 - acc: 0.4961 - val_loss: 1.6305 - val_acc: 0.6260\n",
      "Epoch 2/20\n",
      "7982/7982 [==============================] - 1s 158us/step - loss: 1.3895 - acc: 0.6909 - val_loss: 1.3094 - val_acc: 0.6990\n",
      "Epoch 3/20\n",
      "7982/7982 [==============================] - 1s 158us/step - loss: 1.0571 - acc: 0.7640 - val_loss: 1.1371 - val_acc: 0.7490\n",
      "Epoch 4/20\n",
      "7982/7982 [==============================] - 1s 158us/step - loss: 0.8243 - acc: 0.8213 - val_loss: 1.0202 - val_acc: 0.7870\n",
      "Epoch 5/20\n",
      "7982/7982 [==============================] - 1s 159us/step - loss: 0.6551 - acc: 0.8562 - val_loss: 0.9649 - val_acc: 0.7940\n",
      "Epoch 6/20\n",
      "7982/7982 [==============================] - 1s 167us/step - loss: 0.5088 - acc: 0.8898 - val_loss: 0.9668 - val_acc: 0.7930\n",
      "Epoch 7/20\n",
      "7982/7982 [==============================] - 1s 161us/step - loss: 0.4039 - acc: 0.9146 - val_loss: 1.0477 - val_acc: 0.7820\n",
      "Epoch 8/20\n",
      "7982/7982 [==============================] - 1s 163us/step - loss: 0.3305 - acc: 0.9306 - val_loss: 0.9306 - val_acc: 0.8160\n",
      "Epoch 9/20\n",
      "7982/7982 [==============================] - 1s 161us/step - loss: 0.2729 - acc: 0.9392 - val_loss: 1.0343 - val_acc: 0.7830\n",
      "Epoch 10/20\n",
      "7982/7982 [==============================] - 1s 161us/step - loss: 0.2265 - acc: 0.9485 - val_loss: 1.0949 - val_acc: 0.7730\n",
      "Epoch 11/20\n",
      "7982/7982 [==============================] - 1s 161us/step - loss: 0.2037 - acc: 0.9513 - val_loss: 1.0573 - val_acc: 0.7970\n",
      "Epoch 12/20\n",
      "7982/7982 [==============================] - 1s 159us/step - loss: 0.1799 - acc: 0.9544 - val_loss: 1.1065 - val_acc: 0.7890\n",
      "Epoch 13/20\n",
      "7982/7982 [==============================] - 1s 161us/step - loss: 0.1701 - acc: 0.9551 - val_loss: 1.1694 - val_acc: 0.7800\n",
      "Epoch 14/20\n",
      "7982/7982 [==============================] - 1s 162us/step - loss: 0.1455 - acc: 0.9560 - val_loss: 1.1389 - val_acc: 0.7850\n",
      "Epoch 15/20\n",
      "7982/7982 [==============================] - 1s 160us/step - loss: 0.1467 - acc: 0.9558 - val_loss: 1.0883 - val_acc: 0.7980\n",
      "Epoch 16/20\n",
      "7982/7982 [==============================] - 1s 162us/step - loss: 0.1334 - acc: 0.9568 - val_loss: 1.2136 - val_acc: 0.7730\n",
      "Epoch 17/20\n",
      "7982/7982 [==============================] - 1s 161us/step - loss: 0.1349 - acc: 0.9568 - val_loss: 1.1182 - val_acc: 0.8090\n",
      "Epoch 18/20\n",
      "7982/7982 [==============================] - 1s 163us/step - loss: 0.1218 - acc: 0.9584 - val_loss: 1.1863 - val_acc: 0.7880\n",
      "Epoch 19/20\n",
      "7982/7982 [==============================] - 1s 180us/step - loss: 0.1222 - acc: 0.9577 - val_loss: 1.1362 - val_acc: 0.7980\n",
      "Epoch 20/20\n",
      "7982/7982 [==============================] - 1s 161us/step - loss: 0.1196 - acc: 0.9546 - val_loss: 1.1394 - val_acc: 0.8030\n"
     ]
    }
   ],
   "source": [
    "history = model.fit(partial_x_train,\n",
    "                    partial_y_train,\n",
    "                    epochs=20,\n",
    "                    batch_size=512,\n",
    "                    validation_data=(x_val, y_val))"
   ]
  },
  {
   "cell_type": "markdown",
   "metadata": {},
   "source": [
    "Our approach reaches an accuracy of ~78%. With a balanced binary classification problem, the accuracy reached by a purely random classifier would be 50%, but in our case it is closer to 19%, so our results seem pretty good, at least when compared to a random baseline:"
   ]
  },
  {
   "cell_type": "code",
   "execution_count": 18,
   "metadata": {},
   "outputs": [],
   "source": [
    "predictions=model.predict(x_test)"
   ]
  },
  {
   "cell_type": "code",
   "execution_count": 19,
   "metadata": {},
   "outputs": [
    {
     "data": {
      "text/plain": [
       "1.0"
      ]
     },
     "execution_count": 19,
     "metadata": {},
     "output_type": "execute_result"
    }
   ],
   "source": [
    "np.sum(predictions[0])"
   ]
  },
  {
   "cell_type": "code",
   "execution_count": null,
   "metadata": {},
   "outputs": [],
   "source": []
  }
 ],
 "metadata": {
  "kernelspec": {
   "display_name": "Python 3",
   "language": "python",
   "name": "python3"
  },
  "language_info": {
   "codemirror_mode": {
    "name": "ipython",
    "version": 3
   },
   "file_extension": ".py",
   "mimetype": "text/x-python",
   "name": "python",
   "nbconvert_exporter": "python",
   "pygments_lexer": "ipython3",
   "version": "3.6.5"
  }
 },
 "nbformat": 4,
 "nbformat_minor": 2
}
