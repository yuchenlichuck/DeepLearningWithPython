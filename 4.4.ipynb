{
 "cells": [
  {
   "cell_type": "code",
   "execution_count": 1,
   "metadata": {},
   "outputs": [
    {
     "name": "stderr",
     "output_type": "stream",
     "text": [
      "D:\\Anaconda3\\lib\\site-packages\\h5py\\__init__.py:36: FutureWarning: Conversion of the second argument of issubdtype from `float` to `np.floating` is deprecated. In future, it will be treated as `np.float64 == np.dtype(float).type`.\n",
      "  from ._conv import register_converters as _register_converters\n",
      "Using TensorFlow backend.\n"
     ]
    }
   ],
   "source": [
    "import keras"
   ]
  },
  {
   "cell_type": "code",
   "execution_count": 2,
   "metadata": {},
   "outputs": [],
   "source": [
    "from keras.datasets import imdb\n",
    "import numpy as np\n",
    "\n",
    "(train_data, train_labels), (test_data, test_labels) = imdb.load_data(num_words=10000)\n",
    "\n",
    "def vectorize_sequences(sequences, dimension=10000):\n",
    "    # Create an all-zero matrix of shape (len(sequences), dimension)\n",
    "    results = np.zeros((len(sequences), dimension))\n",
    "    for i, sequence in enumerate(sequences):\n",
    "        results[i, sequence] = 1.  # set specific indices of results[i] to 1s\n",
    "    return results\n",
    "\n",
    "# Our vectorized training data\n",
    "x_train = vectorize_sequences(train_data)\n",
    "# Our vectorized test data\n",
    "x_test = vectorize_sequences(test_data)\n",
    "# Our vectorized labels\n",
    "y_train = np.asarray(train_labels).astype('float32')\n",
    "y_test = np.asarray(test_labels).astype('float32')"
   ]
  },
  {
   "cell_type": "code",
   "execution_count": 3,
   "metadata": {},
   "outputs": [],
   "source": [
    "from keras import models\n",
    "from keras import layers\n",
    "\n",
    "original_model = models.Sequential()\n",
    "original_model.add(layers.Dense(16, activation='relu', input_shape=(10000,)))\n",
    "original_model.add(layers.Dense(16, activation='relu'))\n",
    "original_model.add(layers.Dense(1, activation='sigmoid'))\n",
    "\n",
    "original_model.compile(optimizer='rmsprop',\n",
    "                       loss='binary_crossentropy',\n",
    "                       metrics=['acc'])"
   ]
  },
  {
   "cell_type": "code",
   "execution_count": 4,
   "metadata": {},
   "outputs": [],
   "source": [
    "smaller_model = models.Sequential()\n",
    "smaller_model.add(layers.Dense(4, activation='relu', input_shape=(10000,)))\n",
    "smaller_model.add(layers.Dense(4, activation='relu'))\n",
    "smaller_model.add(layers.Dense(1, activation='sigmoid'))\n",
    "\n",
    "smaller_model.compile(optimizer='rmsprop',\n",
    "                      loss='binary_crossentropy',\n",
    "                      metrics=['acc'])"
   ]
  },
  {
   "cell_type": "markdown",
   "metadata": {},
   "source": [
    "- Dense 标准的一维全连接层\n",
    "\n",
    "keras.layers.Dense(units, \n",
    "\t\t\t\t  activation=None, \n",
    "\t\t\t\t  use_bias=True, \n",
    "\t\t\t\t  kernel_initializer='glorot_uniform', \n",
    "\t\t\t\t  bias_initializer='zeros', \n",
    "\t\t\t\t  kernel_regularizer=None, \n",
    "\t\t\t\t  bias_regularizer=None, \n",
    "\t\t\t    activity_regularizer=None, \n",
    "\t\t\t\t  kernel_constraint=None, \n",
    "            bias_constraint=None)\n",
    "以下给出Dense方法的使用示例：\n",
    "\n",
    "keras.layers.Dense(512, activation= 'sigmoid', input_dim= 2, use_bias= True)\n",
    "这里定义了一个有512个节点，使用sigmoid激活函数的神经层，注意定义第一层的时候需要制定数据输入的形状，即input_dim，这样才能让数据正常喂进网络"
   ]
  },
  {
   "cell_type": "code",
   "execution_count": 5,
   "metadata": {},
   "outputs": [
    {
     "name": "stdout",
     "output_type": "stream",
     "text": [
      "Train on 25000 samples, validate on 25000 samples\n",
      "Epoch 1/20\n",
      "25000/25000 [==============================] - 9s 374us/step - loss: 0.4440 - acc: 0.8251 - val_loss: 0.3286 - val_acc: 0.8835\n",
      "Epoch 2/20\n",
      "25000/25000 [==============================] - 11s 429us/step - loss: 0.2573 - acc: 0.9078 - val_loss: 0.2864 - val_acc: 0.8882\n",
      "Epoch 3/20\n",
      "25000/25000 [==============================] - 7s 296us/step - loss: 0.1991 - acc: 0.9294 - val_loss: 0.2822 - val_acc: 0.8891\n",
      "Epoch 4/20\n",
      "25000/25000 [==============================] - 7s 272us/step - loss: 0.1666 - acc: 0.9413 - val_loss: 0.2940 - val_acc: 0.8847\n",
      "Epoch 5/20\n",
      "25000/25000 [==============================] - 12s 476us/step - loss: 0.1434 - acc: 0.9498 - val_loss: 0.3115 - val_acc: 0.8807\n",
      "Epoch 6/20\n",
      "25000/25000 [==============================] - 18s 703us/step - loss: 0.1257 - acc: 0.9556 - val_loss: 0.3475 - val_acc: 0.8721\n",
      "Epoch 7/20\n",
      "25000/25000 [==============================] - 15s 617us/step - loss: 0.1110 - acc: 0.9618 - val_loss: 0.3584 - val_acc: 0.8734\n",
      "Epoch 8/20\n",
      "25000/25000 [==============================] - 5s 219us/step - loss: 0.0978 - acc: 0.9669 - val_loss: 0.3955 - val_acc: 0.8660\n",
      "Epoch 9/20\n",
      "25000/25000 [==============================] - 6s 237us/step - loss: 0.0841 - acc: 0.9723 - val_loss: 0.4241 - val_acc: 0.8642\n",
      "Epoch 10/20\n",
      "25000/25000 [==============================] - 6s 240us/step - loss: 0.0756 - acc: 0.9758 - val_loss: 0.4975 - val_acc: 0.8523\n",
      "Epoch 11/20\n",
      "25000/25000 [==============================] - 6s 229us/step - loss: 0.0686 - acc: 0.9778 - val_loss: 0.4866 - val_acc: 0.8586\n",
      "Epoch 12/20\n",
      "25000/25000 [==============================] - 5s 205us/step - loss: 0.0565 - acc: 0.9830 - val_loss: 0.5184 - val_acc: 0.8558\n",
      "Epoch 13/20\n",
      "25000/25000 [==============================] - 5s 205us/step - loss: 0.0513 - acc: 0.9842 - val_loss: 0.5341 - val_acc: 0.8575\n",
      "Epoch 14/20\n",
      "25000/25000 [==============================] - 6s 223us/step - loss: 0.0426 - acc: 0.9879 - val_loss: 0.6150 - val_acc: 0.8490\n",
      "Epoch 15/20\n",
      "25000/25000 [==============================] - 6s 249us/step - loss: 0.0369 - acc: 0.9894 - val_loss: 0.6069 - val_acc: 0.8548\n",
      "Epoch 16/20\n",
      "25000/25000 [==============================] - 6s 250us/step - loss: 0.0309 - acc: 0.9909 - val_loss: 0.6407 - val_acc: 0.8535\n",
      "Epoch 17/20\n",
      "25000/25000 [==============================] - 6s 251us/step - loss: 0.0263 - acc: 0.9930 - val_loss: 0.6874 - val_acc: 0.8523\n",
      "Epoch 18/20\n",
      "25000/25000 [==============================] - 6s 224us/step - loss: 0.0206 - acc: 0.9953 - val_loss: 0.7290 - val_acc: 0.8505\n",
      "Epoch 19/20\n",
      "25000/25000 [==============================] - 5s 219us/step - loss: 0.0188 - acc: 0.9954 - val_loss: 0.7546 - val_acc: 0.8508\n",
      "Epoch 20/20\n",
      "25000/25000 [==============================] - 5s 203us/step - loss: 0.0152 - acc: 0.9966 - val_loss: 0.9771 - val_acc: 0.8322\n"
     ]
    }
   ],
   "source": [
    "original_hist=original_model.fit(x_train,y_train,epochs=20,batch_size=512,validation_data=(x_test,y_test))"
   ]
  },
  {
   "cell_type": "code",
   "execution_count": 6,
   "metadata": {},
   "outputs": [
    {
     "name": "stdout",
     "output_type": "stream",
     "text": [
      "Train on 25000 samples, validate on 25000 samples\n",
      "Epoch 1/20\n",
      "25000/25000 [==============================] - 13s 511us/step - loss: 0.5804 - acc: 0.7027 - val_loss: 0.5309 - val_acc: 0.7558\n",
      "Epoch 2/20\n",
      "25000/25000 [==============================] - 7s 279us/step - loss: 0.4843 - acc: 0.8455 - val_loss: 0.4876 - val_acc: 0.8280\n",
      "Epoch 3/20\n",
      "25000/25000 [==============================] - 5s 208us/step - loss: 0.4389 - acc: 0.8920 - val_loss: 0.4663 - val_acc: 0.8497\n",
      "Epoch 4/20\n",
      "25000/25000 [==============================] - 5s 199us/step - loss: 0.4077 - acc: 0.9154 - val_loss: 0.4526 - val_acc: 0.8663\n",
      "Epoch 5/20\n",
      "25000/25000 [==============================] - 5s 197us/step - loss: 0.3832 - acc: 0.9304 - val_loss: 0.4514 - val_acc: 0.8621\n",
      "Epoch 6/20\n",
      "25000/25000 [==============================] - 5s 197us/step - loss: 0.3620 - acc: 0.9414 - val_loss: 0.4425 - val_acc: 0.8725\n",
      "Epoch 7/20\n",
      "25000/25000 [==============================] - 5s 200us/step - loss: 0.3425 - acc: 0.9517 - val_loss: 0.4495 - val_acc: 0.8668\n",
      "Epoch 8/20\n",
      "25000/25000 [==============================] - 5s 199us/step - loss: 0.3261 - acc: 0.9560 - val_loss: 0.4538 - val_acc: 0.8662\n",
      "Epoch 9/20\n",
      "25000/25000 [==============================] - 5s 198us/step - loss: 0.3101 - acc: 0.9616 - val_loss: 0.4734 - val_acc: 0.8606\n",
      "Epoch 10/20\n",
      "25000/25000 [==============================] - 5s 200us/step - loss: 0.2959 - acc: 0.9652 - val_loss: 0.4692 - val_acc: 0.8630\n",
      "Epoch 11/20\n",
      "25000/25000 [==============================] - 5s 200us/step - loss: 0.2815 - acc: 0.9691 - val_loss: 0.4937 - val_acc: 0.8582\n",
      "Epoch 12/20\n",
      "25000/25000 [==============================] - 6s 226us/step - loss: 0.2685 - acc: 0.9722 - val_loss: 0.4850 - val_acc: 0.8623\n",
      "Epoch 13/20\n",
      "25000/25000 [==============================] - 6s 227us/step - loss: 0.2567 - acc: 0.9744 - val_loss: 0.5121 - val_acc: 0.8581\n",
      "Epoch 14/20\n",
      "25000/25000 [==============================] - 5s 202us/step - loss: 0.2453 - acc: 0.9762 - val_loss: 0.5452 - val_acc: 0.8548\n",
      "Epoch 15/20\n",
      "25000/25000 [==============================] - 5s 210us/step - loss: 0.2337 - acc: 0.9779 - val_loss: 0.5129 - val_acc: 0.8594\n",
      "Epoch 16/20\n",
      "25000/25000 [==============================] - 6s 227us/step - loss: 0.2237 - acc: 0.9800 - val_loss: 0.5389 - val_acc: 0.8572\n",
      "Epoch 17/20\n",
      "25000/25000 [==============================] - 6s 227us/step - loss: 0.2146 - acc: 0.9813 - val_loss: 0.5776 - val_acc: 0.8550\n",
      "Epoch 18/20\n",
      "25000/25000 [==============================] - 5s 209us/step - loss: 0.2052 - acc: 0.9823 - val_loss: 0.5864 - val_acc: 0.8547\n",
      "Epoch 19/20\n",
      "25000/25000 [==============================] - 5s 204us/step - loss: 0.1967 - acc: 0.9827 - val_loss: 0.6583 - val_acc: 0.8496\n",
      "Epoch 20/20\n",
      "25000/25000 [==============================] - 6s 233us/step - loss: 0.1892 - acc: 0.9834 - val_loss: 0.6602 - val_acc: 0.8499\n"
     ]
    }
   ],
   "source": [
    "smaller_model_hist = smaller_model.fit(x_train, y_train,\n",
    "                                       epochs=20,\n",
    "                                       batch_size=512,\n",
    "                                       validation_data=(x_test, y_test))"
   ]
  },
  {
   "cell_type": "code",
   "execution_count": 8,
   "metadata": {},
   "outputs": [
    {
     "data": {
      "image/png": "[encoded data removed]",
      "text/plain": [
       "<Figure size 432x288 with 1 Axes>"
      ]
     },
     "metadata": {},
     "output_type": "display_data"
    }
   ],
   "source": [
    "epochs = range(1, 21)\n",
    "original_val_loss = original_hist.history['val_loss']\n",
    "smaller_model_val_loss = smaller_model_hist.history['val_loss']\n",
    "import matplotlib.pyplot as plt\n",
    "\n",
    "# b+ is for \"blue cross\"\n",
    "plt.plot(epochs, original_val_loss, 'b+', label='Original model')\n",
    "# \"bo\" is for \"blue dot\"\n",
    "plt.plot(epochs, smaller_model_val_loss, 'bo', label='Smaller model')\n",
    "plt.xlabel('Epochs')\n",
    "plt.ylabel('Validation loss')\n",
    "plt.legend()\n",
    "\n",
    "plt.show()\n"
   ]
  },
  {
   "cell_type": "markdown",
   "metadata": {},
   "source": [
    "As you can see, the smaller network starts overfitting later than the reference one (after 6 epochs rather than 4) and its performance degrades much more slowly once it starts overfitting.\n",
    "\n",
    "Now, for kicks, let's add to this benchmark a network that has much more capacity, far more than the problem would warrant:"
   ]
  },
  {
   "cell_type": "markdown",
   "metadata": {},
   "source": [
    "Adding weight regularization\n",
    "You may be familiar with Occam's Razor principle: given two explanations for something, the explanation most likely to be correct is the \"simplest\" one, the one that makes the least amount of assumptions. This also applies to the models learned by neural networks: given some training data and a network architecture, there are multiple sets of weights values (multiple models) that could explain the data, and simpler models are less likely to overfit than complex ones.\n",
    "\n",
    "A \"simple model\" in this context is a model where the distribution of parameter values has less entropy (or a model with fewer parameters altogether, as we saw in the section above). Thus a common way to mitigate overfitting is to put constraints on the complexity of a network by forcing its weights to only take small values, which makes the distribution of weight values more \"regular\". This is called \"weight regularization\", and it is done by adding to the loss function of the network a cost associated with having large weights. This cost comes in two flavors:\n",
    "\n",
    "L1 regularization, where the cost added is proportional to the absolute value of the weights coefficients (i.e. to what is called the \"L1 norm\" of the weights).\n",
    "L2 regularization, where the cost added is proportional to the square of the value of the weights coefficients (i.e. to what is called the \"L2 norm\" of the weights). L2 regularization is also called weight decay in the context of neural networks. Don't let the different name confuse you: weight decay is mathematically the exact same as L2 regularization.\n",
    "In Keras, weight regularization is added by passing weight regularizer instances to layers as keyword arguments. Let's add L2 weight regularization to our movie review classification network:"
   ]
  },
  {
   "cell_type": "code",
   "execution_count": 9,
   "metadata": {},
   "outputs": [],
   "source": [
    "from keras import regularizers\n",
    "\n",
    "l2_model=models.Sequential()\n",
    "l2_model.add(layers.Dense(16,kernel_regularizer=regularizers.l2(0.001),activation='relu',input_shape=(10000,)))\n",
    "l2_model.add(layers.Dense(16,kernel_regularizer=regularizers.l2(0.001),activation='relu'))\n",
    "l2_model.add(layers.Dense(1,activation='sigmoid'))"
   ]
  },
  {
   "cell_type": "code",
   "execution_count": 10,
   "metadata": {},
   "outputs": [
    {
     "name": "stdout",
     "output_type": "stream",
     "text": [
      "Train on 25000 samples, validate on 25000 samples\n",
      "Epoch 1/20\n",
      "25000/25000 [==============================] - 7s 268us/step - loss: 0.5041 - acc: 0.8084 - val_loss: 0.3782 - val_acc: 0.8838\n",
      "Epoch 2/20\n",
      "25000/25000 [==============================] - 6s 229us/step - loss: 0.3131 - acc: 0.9066 - val_loss: 0.3327 - val_acc: 0.8897\n",
      "Epoch 3/20\n",
      "25000/25000 [==============================] - 6s 236us/step - loss: 0.2665 - acc: 0.9220 - val_loss: 0.3681 - val_acc: 0.8700\n",
      "Epoch 4/20\n",
      "25000/25000 [==============================] - 6s 223us/step - loss: 0.2481 - acc: 0.9288 - val_loss: 0.3386 - val_acc: 0.8863\n",
      "Epoch 5/20\n",
      "25000/25000 [==============================] - 5s 217us/step - loss: 0.2354 - acc: 0.9354 - val_loss: 0.3803 - val_acc: 0.8694\n",
      "Epoch 6/20\n",
      "25000/25000 [==============================] - 5s 204us/step - loss: 0.2248 - acc: 0.9394 - val_loss: 0.3589 - val_acc: 0.8797\n",
      "Epoch 7/20\n",
      "25000/25000 [==============================] - 6s 229us/step - loss: 0.2174 - acc: 0.9428 - val_loss: 0.3788 - val_acc: 0.8726\n",
      "Epoch 8/20\n",
      "25000/25000 [==============================] - 5s 218us/step - loss: 0.2167 - acc: 0.9440 - val_loss: 0.3738 - val_acc: 0.8777\n",
      "Epoch 9/20\n",
      "25000/25000 [==============================] - 5s 203us/step - loss: 0.2101 - acc: 0.9440 - val_loss: 0.4003 - val_acc: 0.8678\n",
      "Epoch 10/20\n",
      "25000/25000 [==============================] - 5s 205us/step - loss: 0.2039 - acc: 0.9482 - val_loss: 0.4106 - val_acc: 0.8680\n",
      "Epoch 11/20\n",
      "25000/25000 [==============================] - 5s 203us/step - loss: 0.2032 - acc: 0.9463 - val_loss: 0.3991 - val_acc: 0.8699\n",
      "Epoch 12/20\n",
      "25000/25000 [==============================] - 5s 203us/step - loss: 0.1956 - acc: 0.9499 - val_loss: 0.4163 - val_acc: 0.8664\n",
      "Epoch 13/20\n",
      "25000/25000 [==============================] - 5s 208us/step - loss: 0.1929 - acc: 0.9531 - val_loss: 0.4179 - val_acc: 0.8704\n",
      "Epoch 14/20\n",
      "25000/25000 [==============================] - 5s 203us/step - loss: 0.1883 - acc: 0.9544 - val_loss: 0.5290 - val_acc: 0.8337\n",
      "Epoch 15/20\n",
      "25000/25000 [==============================] - 5s 203us/step - loss: 0.1881 - acc: 0.9542 - val_loss: 0.4820 - val_acc: 0.8505\n",
      "Epoch 16/20\n",
      "25000/25000 [==============================] - 5s 203us/step - loss: 0.1803 - acc: 0.9580 - val_loss: 0.4806 - val_acc: 0.8504\n",
      "Epoch 17/20\n",
      "25000/25000 [==============================] - 5s 205us/step - loss: 0.1810 - acc: 0.9573 - val_loss: 0.4201 - val_acc: 0.8696\n",
      "Epoch 18/20\n",
      "25000/25000 [==============================] - 5s 204us/step - loss: 0.1788 - acc: 0.9575 - val_loss: 0.4254 - val_acc: 0.8664\n",
      "Epoch 19/20\n",
      "25000/25000 [==============================] - 5s 207us/step - loss: 0.1741 - acc: 0.9598 - val_loss: 0.4334 - val_acc: 0.8655\n",
      "Epoch 20/20\n",
      "25000/25000 [==============================] - 5s 205us/step - loss: 0.1706 - acc: 0.9614 - val_loss: 0.5019 - val_acc: 0.8475\n"
     ]
    }
   ],
   "source": [
    "l2_model.compile(optimizer='rmsprop',\n",
    "                 loss='binary_crossentropy',\n",
    "                 metrics=['acc'])\n",
    "l2_model_hist = l2_model.fit(x_train, y_train,\n",
    "                             epochs=20,\n",
    "                             batch_size=512,\n",
    "                             validation_data=(x_test, y_test))"
   ]
  },
  {
   "cell_type": "code",
   "execution_count": 11,
   "metadata": {},
   "outputs": [
    {
     "data": {
      "image/png": "[encoded data removed]",
      "text/plain": [
       "<Figure size 432x288 with 1 Axes>"
      ]
     },
     "metadata": {},
     "output_type": "display_data"
    }
   ],
   "source": [
    "l2_model_val_loss = l2_model_hist.history['val_loss']\n",
    "\n",
    "plt.plot(epochs, original_val_loss, 'b+', label='Original model')\n",
    "plt.plot(epochs, l2_model_val_loss, 'bo', label='L2-regularized model')\n",
    "plt.xlabel('Epochs')\n",
    "plt.ylabel('Validation loss')\n",
    "plt.legend()\n",
    "\n",
    "plt.show()"
   ]
  },
  {
   "cell_type": "markdown",
   "metadata": {},
   "source": [
    "# Dropout\n",
    "- The dropout rate is the fractio of the features that are being zeroed-out; it is usually set between 0.2 and 0.5.\n",
    "Dropout是由Srivastava等人在2014年的一篇论文中提出的一种针对神经网络模型的正则化方法“Dropout: A Simple Way to Prevent Neural Networks from Overfitting”（下载PDF）。\n",
    "\n",
    "Dropout是在训练期间随机选择的一些神经元忽略的技术。他们随机“Dropout”。这意味着它们对下游神经元的激活的贡献暂时消除，并且在反向过程没有实施任何权重的更新。\n",
    "\n",
    "每轮权重更新，以给定的概率(例如20%)从随机选择的节点中舍弃，这个过程很容易实现。这就是在Keras中实现Dropout。Dropout仅在训练模型时使用，在评估模型的技能时不使用。"
   ]
  },
  {
   "cell_type": "markdown",
   "metadata": {},
   "source": [
    "http://www.jmlr.org/papers/volume15/srivastava14a/srivastava14a.pdf\n"
   ]
  },
  {
   "cell_type": "code",
   "execution_count": 12,
   "metadata": {},
   "outputs": [
    {
     "ename": "NameError",
     "evalue": "name 'layer_output' is not defined",
     "output_type": "error",
     "traceback": [
      "\u001b[1;31m---------------------------------------------------------------------------\u001b[0m",
      "\u001b[1;31mNameError\u001b[0m                                 Traceback (most recent call last)",
      "\u001b[1;32m<ipython-input-12-0322f7681546>\u001b[0m in \u001b[0;36m<module>\u001b[1;34m()\u001b[0m\n\u001b[1;32m----> 1\u001b[1;33m \u001b[0mlayer_output\u001b[0m \u001b[1;33m*=\u001b[0m\u001b[0mnp\u001b[0m\u001b[1;33m.\u001b[0m\u001b[0mrandint\u001b[0m\u001b[1;33m(\u001b[0m\u001b[1;36m0\u001b[0m\u001b[1;33m,\u001b[0m\u001b[0mhigh\u001b[0m\u001b[1;33m=\u001b[0m\u001b[1;36m2\u001b[0m\u001b[1;33m,\u001b[0m\u001b[0msize\u001b[0m\u001b[1;33m=\u001b[0m\u001b[0mlayer_output\u001b[0m\u001b[1;33m.\u001b[0m\u001b[0mshape\u001b[0m\u001b[1;33m)\u001b[0m\u001b[1;33m\u001b[0m\u001b[0m\n\u001b[0m",
      "\u001b[1;31mNameError\u001b[0m: name 'layer_output' is not defined"
     ]
    }
   ],
   "source": [
    "layer_output *=np.randint(0,high=2,size=layer_output.shape)\n"
   ]
  },
  {
   "cell_type": "code",
   "execution_count": 13,
   "metadata": {},
   "outputs": [],
   "source": [
    "dpt_model = models.Sequential()\n",
    "dpt_model.add(layers.Dense(16, activation='relu', input_shape=(10000,)))\n",
    "dpt_model.add(layers.Dropout(0.5))\n",
    "dpt_model.add(layers.Dense(16, activation='relu'))\n",
    "dpt_model.add(layers.Dropout(0.5))\n",
    "dpt_model.add(layers.Dense(1, activation='sigmoid'))\n",
    "\n",
    "dpt_model.compile(optimizer='rmsprop',\n",
    "                  loss='binary_crossentropy',\n",
    "                  metrics=['acc'])"
   ]
  },
  {
   "cell_type": "code",
   "execution_count": 14,
   "metadata": {},
   "outputs": [
    {
     "name": "stdout",
     "output_type": "stream",
     "text": [
      "Train on 25000 samples, validate on 25000 samples\n",
      "Epoch 1/20\n",
      "25000/25000 [==============================] - 26s 1ms/step - loss: 0.5573 - acc: 0.7182 - val_loss: 0.4038 - val_acc: 0.8624\n",
      "Epoch 2/20\n",
      "25000/25000 [==============================] - 14s 547us/step - loss: 0.3982 - acc: 0.8452 - val_loss: 0.3092 - val_acc: 0.8857\n",
      "Epoch 3/20\n",
      "25000/25000 [==============================] - 8s 326us/step - loss: 0.3272 - acc: 0.8844 - val_loss: 0.2868 - val_acc: 0.8894\n",
      "Epoch 4/20\n",
      "25000/25000 [==============================] - 6s 259us/step - loss: 0.2758 - acc: 0.9056 - val_loss: 0.2796 - val_acc: 0.8877\n",
      "Epoch 5/20\n",
      "25000/25000 [==============================] - 6s 242us/step - loss: 0.2433 - acc: 0.9204 - val_loss: 0.2886 - val_acc: 0.8886\n",
      "Epoch 6/20\n",
      "25000/25000 [==============================] - 6s 243us/step - loss: 0.2189 - acc: 0.9286 - val_loss: 0.3046 - val_acc: 0.8811\n",
      "Epoch 7/20\n",
      "25000/25000 [==============================] - 6s 229us/step - loss: 0.1951 - acc: 0.9370 - val_loss: 0.3227 - val_acc: 0.8856\n",
      "Epoch 8/20\n",
      "25000/25000 [==============================] - 6s 224us/step - loss: 0.1791 - acc: 0.9418 - val_loss: 0.3481 - val_acc: 0.8815\n",
      "Epoch 9/20\n",
      "25000/25000 [==============================] - 6s 245us/step - loss: 0.1653 - acc: 0.9459 - val_loss: 0.3566 - val_acc: 0.8806\n",
      "Epoch 10/20\n",
      "25000/25000 [==============================] - 6s 229us/step - loss: 0.1540 - acc: 0.9506 - val_loss: 0.3816 - val_acc: 0.8806\n",
      "Epoch 11/20\n",
      "25000/25000 [==============================] - 6s 227us/step - loss: 0.1463 - acc: 0.9552 - val_loss: 0.3998 - val_acc: 0.8768\n",
      "Epoch 12/20\n",
      "25000/25000 [==============================] - 6s 224us/step - loss: 0.1383 - acc: 0.9564 - val_loss: 0.4590 - val_acc: 0.8764\n",
      "Epoch 13/20\n",
      "25000/25000 [==============================] - 6s 222us/step - loss: 0.1339 - acc: 0.9588 - val_loss: 0.4407 - val_acc: 0.8735\n",
      "Epoch 14/20\n",
      "25000/25000 [==============================] - 6s 226us/step - loss: 0.1237 - acc: 0.9625 - val_loss: 0.4729 - val_acc: 0.8755\n",
      "Epoch 15/20\n",
      "25000/25000 [==============================] - 6s 227us/step - loss: 0.1242 - acc: 0.9602 - val_loss: 0.5132 - val_acc: 0.8768\n",
      "Epoch 16/20\n",
      "25000/25000 [==============================] - 6s 234us/step - loss: 0.1198 - acc: 0.9625 - val_loss: 0.5182 - val_acc: 0.8744\n",
      "Epoch 17/20\n",
      "25000/25000 [==============================] - 6s 222us/step - loss: 0.1146 - acc: 0.9650 - val_loss: 0.5430 - val_acc: 0.8750\n",
      "Epoch 18/20\n",
      "25000/25000 [==============================] - 6s 236us/step - loss: 0.1137 - acc: 0.9660 - val_loss: 0.5592 - val_acc: 0.8739\n",
      "Epoch 19/20\n",
      "25000/25000 [==============================] - 6s 244us/step - loss: 0.1075 - acc: 0.9680 - val_loss: 0.5619 - val_acc: 0.8710\n",
      "Epoch 20/20\n",
      "25000/25000 [==============================] - 7s 263us/step - loss: 0.1130 - acc: 0.9657 - val_loss: 0.5888 - val_acc: 0.8723\n"
     ]
    }
   ],
   "source": [
    "dpt_model_hist = dpt_model.fit(x_train, y_train,\n",
    "                               epochs=20,\n",
    "                               batch_size=512,\n",
    "                               validation_data=(x_test, y_test))\n"
   ]
  },
  {
   "cell_type": "code",
   "execution_count": null,
   "metadata": {},
   "outputs": [],
   "source": []
  }
 ],
 "metadata": {
  "kernelspec": {
   "display_name": "Python 3",
   "language": "python",
   "name": "python3"
  },
  "language_info": {
   "codemirror_mode": {
    "name": "ipython",
    "version": 3
   },
   "file_extension": ".py",
   "mimetype": "text/x-python",
   "name": "python",
   "nbconvert_exporter": "python",
   "pygments_lexer": "ipython3",
   "version": "3.6.5"
  }
 },
 "nbformat": 4,
 "nbformat_minor": 2
}
