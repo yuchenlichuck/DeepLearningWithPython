{
 "cells": [
  {
   "cell_type": "code",
   "execution_count": null,
   "metadata": {},
   "outputs": [
    {
     "name": "stderr",
     "output_type": "stream",
     "text": [
      "Using TensorFlow backend.\n"
     ]
    },
    {
     "name": "stdout",
     "output_type": "stream",
     "text": [
      "Found 72770 images belonging to 2 classes.\n",
      "Found 11205 images belonging to 2 classes.\n",
      "Found 22410 images belonging to 2 classes.\n",
      "WARNING:tensorflow:From D:\\Anaconda3\\envs\\tensorflow_gpu\\lib\\site-packages\\tensorflow\\python\\ops\\resource_variable_ops.py:435: colocate_with (from tensorflow.python.framework.ops) is deprecated and will be removed in a future version.\n",
      "Instructions for updating:\n",
      "Colocations handled automatically by placer.\n",
      "WARNING:tensorflow:From D:\\Anaconda3\\envs\\tensorflow_gpu\\lib\\site-packages\\tensorflow\\python\\ops\\math_ops.py:3066: to_int32 (from tensorflow.python.ops.math_ops) is deprecated and will be removed in a future version.\n",
      "Instructions for updating:\n",
      "Use tf.cast instead.\n",
      "Epoch 1/100\n",
      " 763/2275 [=========>....................] - ETA: 19:10 - loss: 0.7063 - acc: 0.5733"
     ]
    }
   ],
   "source": [
    "import utils\n",
    "import os\n",
    "from tensorflow.keras.applications.resnet50 import ResNet50\n",
    "from tensorflow.keras.applications.resnet50 import preprocess_input\n",
    "from tensorflow.keras.layers import Dense\n",
    "from tensorflow.keras.models import Model\n",
    "from tensorflow.keras.callbacks import EarlyStopping, ReduceLROnPlateau\n",
    "from sklearn.ensemble import GradientBoostingClassifier \n",
    "from keras_svm import ModelSVMWrapper \n",
    "\n",
    "# Hyper-parameters\n",
    "num_classes = 2\n",
    "batch_size = 32\n",
    "epochs = 100\n",
    "validation_steps = 10\n",
    "# training parameters\n",
    "opt = 'sgd'\n",
    "learning_rate = 1e-04\n",
    "momentum = 0.0 # necessary if opt is 'sgd'\n",
    "# model path\n",
    "model_path = \"H:/Muck/models\"\n",
    "utils.create_directory(model_path)\n",
    "model_filepath = os.path.join(model_path, \"resnet50_keras_model.h5\")\n",
    "\n",
    "# data_path\n",
    "data_path = \"H:/data\"\n",
    "train_directory = os.path.join(data_path, 'train')\n",
    "validation_directory = os.path.join(data_path, 'val')\n",
    "test_directory = os.path.join(data_path, 'test')\n",
    "\n",
    "\n",
    "# create data train generator\n",
    "train_generator = utils.train_data_generator(train_directory, batch_size, preprocess_input, target_size=(224, 224))\n",
    "train_image_numbers = train_generator.samples\n",
    "# create validation generator\n",
    "validation_generator = utils.test_data_generator(validation_directory, preprocess_input, (224, 224))\n",
    "# create test generator\n",
    "test_generator = utils.test_data_generator(test_directory, preprocess_input, (224, 224))\n",
    "\n",
    "# create the base pre-trained model\n",
    "base_model = ResNet50(weights='imagenet', include_top=False, pooling=\"avg\")\n",
    "# add a logistic layer for predictions\n",
    "x = base_model.output\n",
    "# x = Flatten()(x)\n",
    "predictions = Dense(num_classes, activation='softmax')(x)\n",
    "\n",
    "# this the model we will train\n",
    "model = Model(inputs=base_model.input, outputs=predictions)\n",
    "\n",
    "# if train only the top layers, uncomment the following two lines\n",
    "# for layer in base_model.layers:\n",
    "#    layer.trainable = False\n",
    "\n",
    "# configure the optimizer\n",
    "optimizer = utils.create_optimizer(opt, learning_rate, momentum)\n",
    "\n",
    "# compile the model (should be done after setting layers to non-trainable)\n",
    "model.compile(optimizer=optimizer,\n",
    "              loss=\"binary_crossentropy\",\n",
    "              metrics=['accuracy'],\n",
    "              )\n",
    "\n",
    "wrapper=ModelSVMWrapper(model)\n",
    "\n",
    "accuracy = {\n",
    "    \"with_svm\": [],\n",
    "    \"without_svm\": []\n",
    "}\n",
    "\n",
    "\n",
    "# train the model\n",
    "# define callback function\n",
    "early_stopping = EarlyStopping(monitor='val_loss',\n",
    "                               patience=10,\n",
    "                               )\n",
    "reduce_lr = ReduceLROnPlateau(monitor='val_loss',\n",
    "                              factor=0.1,\n",
    "                              patience=5,\n",
    "                              )\n",
    "\n",
    "#model\n",
    "wrapper.model.fit_generator(train_generator,\n",
    "                    steps_per_epoch=train_image_numbers//batch_size,\n",
    "                    epochs=epochs,\n",
    "                    validation_data=validation_generator,\n",
    "                    validation_steps=validation_steps,\n",
    "                    callbacks=[early_stopping, reduce_lr],\n",
    "                    )\n",
    "\n",
    "# test the model\n",
    "test_metrics = wrapper.model.evaluate_generator(test_generator,\n",
    "                         steps=1,\n",
    "                         )\n",
    "for i in zip(wrapper.model.metrics_names, test_metrics):\n",
    "    print(i)\n",
    "\n",
    "# save the model\n",
    "model.save(model_filepath)\n"
   ]
  },
  {
   "cell_type": "code",
   "execution_count": 4,
   "metadata": {},
   "outputs": [
    {
     "name": "stdout",
     "output_type": "stream",
     "text": [
      "[[22. 28.]\n",
      " [49. 64.]]\n"
     ]
    }
   ],
   "source": [
    "import numpy\n",
    "import tensorflow as tf\n",
    "a = tf.constant([1.0, 2.0, 3.0, 4.0, 5.0, 6.0], shape=[2, 3], name='a')\n",
    "b = tf.constant([1.0, 2.0, 3.0, 4.0, 5.0, 6.0], shape=[3, 2], name='b')\n",
    "c = tf.matmul(a, b)\n",
    "sess = tf.Session(config=tf.ConfigProto(log_device_placement=True))\n",
    "print(sess.run(c))"
   ]
  },
  {
   "cell_type": "code",
   "execution_count": null,
   "metadata": {},
   "outputs": [],
   "source": []
  }
 ],
 "metadata": {
  "kernelspec": {
   "display_name": "Python 3",
   "language": "python",
   "name": "python3"
  },
  "language_info": {
   "codemirror_mode": {
    "name": "ipython",
    "version": 3
   },
   "file_extension": ".py",
   "mimetype": "text/x-python",
   "name": "python",
   "nbconvert_exporter": "python",
   "pygments_lexer": "ipython3",
   "version": "3.6.8"
  }
 },
 "nbformat": 4,
 "nbformat_minor": 2
}
