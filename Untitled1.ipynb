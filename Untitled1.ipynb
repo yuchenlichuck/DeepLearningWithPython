{
 "cells": [
  {
   "cell_type": "code",
   "execution_count": 1,
   "metadata": {},
   "outputs": [
    {
     "name": "stderr",
     "output_type": "stream",
     "text": [
      "Using TensorFlow backend.\n"
     ]
    }
   ],
   "source": [
    "import keras"
   ]
  },
  {
   "cell_type": "code",
   "execution_count": 2,
   "metadata": {},
   "outputs": [
    {
     "name": "stdout",
     "output_type": "stream",
     "text": [
      "Downloading data from https://github.com/fchollet/deep-learning-models/releases/download/v0.5/inception_v3_weights_tf_dim_ordering_tf_kernels_notop.h5\n",
      "87916544/87910968 [==============================] - 162s 2us/step\n"
     ]
    }
   ],
   "source": [
    "from keras.applications import inception_v3\n",
    "from keras import backend as K\n",
    "K.set_learning_phase(0)\n",
    "\n",
    "model=inception_v3.InceptionV3(weights='imagenet',include_top=False)"
   ]
  },
  {
   "cell_type": "code",
   "execution_count": 3,
   "metadata": {},
   "outputs": [],
   "source": [
    "layer_contributions={\n",
    "    'mixed2':0.2,\n",
    "    'mixed3':3.,\n",
    "    'mixed4':2.,\n",
    "    'mixed5':1.5,\n",
    "}"
   ]
  },
  {
   "cell_type": "code",
   "execution_count": 4,
   "metadata": {},
   "outputs": [
    {
     "name": "stdout",
     "output_type": "stream",
     "text": [
      "WARNING:tensorflow:Variable += will be deprecated. Use variable.assign_add if you want assignment to the variable value or 'x = x + y' if you want a new python Tensor object.\n"
     ]
    }
   ],
   "source": [
    "layer_dict=dict([(layer.name,layer)for layer in model.layers])\n",
    "\n",
    "loss=K.variable(0.)\n",
    "for name in layer_contributions:\n",
    "    coeff =layer_contributions[name]\n",
    "    activation = layer_dict[name].output\n",
    "    \n",
    "    scaling =K.prod(K.cast(K.shape(activation),'float32'))\n",
    "    loss+=coeff*K.sum(K.square(activation[:,2:-2,2:-2,:]))\n",
    "    "
   ]
  },
  {
   "cell_type": "code",
   "execution_count": 6,
   "metadata": {},
   "outputs": [],
   "source": [
    "dream =model.input\n",
    "grads=K.gradients(loss,dream)[0]\n",
    "grads/=K.maximum(K.mean(K.abs(grads)),1e-7)"
   ]
  },
  {
   "cell_type": "code",
   "execution_count": 7,
   "metadata": {},
   "outputs": [],
   "source": [
    "outputs=[loss,grads]\n",
    "fetch_loss_and_grads=K.function([dream],outputs)\n",
    "def eval_loss_grads(x):\n",
    "    outs=fetch_loss_and_grads([x])\n",
    "    loss_value=outs[0]\n",
    "    grad_value=outs[1]\n",
    "    return loss_value,grad_value\n",
    "\n",
    "def gradient_ascent(x,iterations,steps,max_loss=None):\n",
    "    for i in range(iterations):\n",
    "        loss_value,grad_value=eval_loss_grads(x)\n",
    "        if max_loss is not None and loss_value>max_loss:\n",
    "            break\n",
    "        print(i,':',loss_value)\n",
    "        x+=steps*grad_value\n",
    "    return x"
   ]
  },
  {
   "cell_type": "code",
   "execution_count": 8,
   "metadata": {},
   "outputs": [],
   "source": [
    "import scipy\n",
    "from keras.preprocessing import image\n",
    "def resize_img(img,size):\n",
    "    img=np.copy(img)\n",
    "    factors=(1,\n",
    "             float(size[0])/img.shape[1],\n",
    "             float(size[1])/img.shape[2],\n",
    "            1\n",
    "            )\n",
    "    \n",
    "    return scipy.ndimage.zoom(img,factors,order=1)\n",
    "\n",
    "def save_img(img,fname):\n",
    "    pil_img=deprocess_image(np.copy(img))\n",
    "    scipy.misc.imsave(fname,pil_img)\n",
    "    \n",
    "def preprocessing_img(image_path):\n",
    "    img=image.load_img(image_path)\n",
    "    img=image.img_to_array(img)\n",
    "    img=np.expand_dims(img,axis=0)\n",
    "    img=inception_v3.preprocess_input(img)\n",
    "    return img\n",
    "\n",
    "def deprocess_image(x):\n",
    "    if K.image_data_format()=='channels_first':\n",
    "        x=x.reshape((3,x.shape[2],x.shape[3]))\n",
    "        x=x.transpose((1,2,0))\n",
    "    else:\n",
    "        x=x.reshape((x.shape[1],x.shape[2],3))\n",
    "    x/=2.\n",
    "    x+=0.5\n",
    "    x*=255.\n",
    "    x=np.clip(x,0,255).astype('uint8')\n",
    "    return x\n"
   ]
  },
  {
   "cell_type": "code",
   "execution_count": null,
   "metadata": {},
   "outputs": [],
   "source": [
    "import numpy as np\n",
    "\n",
    "step=0.01\n",
    "num_octave=3\n",
    "octave_scale=1.4\n",
    "iterations=20\n",
    "\n",
    "max_loss=10.\n",
    "base_image_path='E:/creative_commons_elephant.jpg'\n",
    "img=preprocessing_img(base_image_path)\n",
    "\n",
    "original_shape=img.shape[1:3]\n",
    "successive_shapes=[original_shape]\n",
    "for i in range(1,num_octave):\n"
   ]
  }
 ],
 "metadata": {
  "kernelspec": {
   "display_name": "Python 3",
   "language": "python",
   "name": "python3"
  },
  "language_info": {
   "codemirror_mode": {
    "name": "ipython",
    "version": 3
   },
   "file_extension": ".py",
   "mimetype": "text/x-python",
   "name": "python",
   "nbconvert_exporter": "python",
   "pygments_lexer": "ipython3",
   "version": "3.6.8"
  }
 },
 "nbformat": 4,
 "nbformat_minor": 2
}
